{
  "nbformat": 4,
  "nbformat_minor": 0,
  "metadata": {
    "colab": {
      "name": "Copy of huffmancode.ipynb",
      "provenance": [],
      "collapsed_sections": [],
      "authorship_tag": "ABX9TyO0j5YiJ2tFMAuVEypsVad9",
      "include_colab_link": true
    },
    "kernelspec": {
      "name": "python3",
      "display_name": "Python 3"
    }
  },
  "cells": [
    {
      "cell_type": "markdown",
      "metadata": {
        "id": "view-in-github",
        "colab_type": "text"
      },
      "source": [
        "<a href=\"https://colab.research.google.com/github/ManasiMhatre22/Data-Compression/blob/master/Copy_of_huffmancode.ipynb\" target=\"_parent\"><img src=\"https://colab.research.google.com/assets/colab-badge.svg\" alt=\"Open In Colab\"/></a>"
      ]
    },
    {
      "cell_type": "code",
      "metadata": {
        "id": "RTraPmi-5KXC",
        "colab_type": "code",
        "colab": {
          "base_uri": "https://localhost:8080/",
          "height": 84
        },
        "outputId": "0426440f-1129-481c-df60-81de04afe259"
      },
      "source": [
        "!pip install dahuffman"
      ],
      "execution_count": null,
      "outputs": [
        {
          "output_type": "stream",
          "text": [
            "Collecting dahuffman\n",
            "  Downloading https://files.pythonhosted.org/packages/08/c4/9c87ef391fae4b557ca3c4ef8eabd1538a7ce568174806e9d76c8f056785/dahuffman-0.4.1-py2.py3-none-any.whl\n",
            "Installing collected packages: dahuffman\n",
            "Successfully installed dahuffman-0.4.1\n"
          ],
          "name": "stdout"
        }
      ]
    },
    {
      "cell_type": "code",
      "metadata": {
        "id": "9THYnUVf5hND",
        "colab_type": "code",
        "colab": {}
      },
      "source": [
        "from dahuffman import HuffmanCodec"
      ],
      "execution_count": null,
      "outputs": []
    },
    {
      "cell_type": "code",
      "metadata": {
        "id": "pfHKhn0R50eP",
        "colab_type": "code",
        "colab": {}
      },
      "source": [
        "codec = HuffmanCodec.from_frequencies({'a': 100, 'i':20, 'k':1, 't': 40, 'c':3  })\n"
      ],
      "execution_count": null,
      "outputs": []
    },
    {
      "cell_type": "code",
      "metadata": {
        "id": "5uvuM7ad57Vv",
        "colab_type": "code",
        "colab": {}
      },
      "source": [
        "encoded = codec.encode('aiktc')\n",
        "\n"
      ],
      "execution_count": null,
      "outputs": []
    },
    {
      "cell_type": "code",
      "metadata": {
        "id": "PTxnNgn775Kq",
        "colab_type": "code",
        "colab": {
          "base_uri": "https://localhost:8080/",
          "height": 134
        },
        "outputId": "489d9295-6384-46df-e724-b20a5d7fe0ff"
      },
      "source": [
        "codec.print_code_table()\n"
      ],
      "execution_count": null,
      "outputs": [
        {
          "output_type": "stream",
          "text": [
            "Bits Code  Value Symbol\n",
            "   5 00000     0 _EOF\n",
            "   5 00001     1 'k'\n",
            "   4 0001      1 'c'\n",
            "   3 001       1 'i'\n",
            "   2 01        1 't'\n",
            "   1 1         1 'a'\n"
          ],
          "name": "stdout"
        }
      ]
    },
    {
      "cell_type": "code",
      "metadata": {
        "id": "eqF9cYed6h4M",
        "colab_type": "code",
        "colab": {
          "base_uri": "https://localhost:8080/",
          "height": 34
        },
        "outputId": "d53a83f4-fd73-4f1c-f9c8-8f159a686cb5"
      },
      "source": [
        "len(encoded)\n",
        "\n",
        "\n"
      ],
      "execution_count": null,
      "outputs": [
        {
          "output_type": "execute_result",
          "data": {
            "text/plain": [
              "2"
            ]
          },
          "metadata": {
            "tags": []
          },
          "execution_count": 10
        }
      ]
    },
    {
      "cell_type": "code",
      "metadata": {
        "id": "Kk3cVwBa_TE0",
        "colab_type": "code",
        "colab": {}
      },
      "source": [
        "decode1=codec.decode(encoded)"
      ],
      "execution_count": null,
      "outputs": []
    },
    {
      "cell_type": "code",
      "metadata": {
        "id": "exf1834R9ap4",
        "colab_type": "code",
        "colab": {}
      },
      "source": [
        "i= 'aiktc'"
      ],
      "execution_count": null,
      "outputs": []
    },
    {
      "cell_type": "code",
      "metadata": {
        "id": "MtDMv8iI9ixm",
        "colab_type": "code",
        "colab": {
          "base_uri": "https://localhost:8080/",
          "height": 34
        },
        "outputId": "e36a08b1-0f81-4072-a87e-c7fc0a6565f7"
      },
      "source": [
        "len(i)"
      ],
      "execution_count": null,
      "outputs": [
        {
          "output_type": "execute_result",
          "data": {
            "text/plain": [
              "5"
            ]
          },
          "metadata": {
            "tags": []
          },
          "execution_count": 14
        }
      ]
    }
  ]
}