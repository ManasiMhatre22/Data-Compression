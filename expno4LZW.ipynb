{
  "nbformat": 4,
  "nbformat_minor": 0,
  "metadata": {
    "colab": {
      "name": "expno4LZW.ipynb",
      "provenance": [],
      "authorship_tag": "ABX9TyPzcmtmuLRzDOAyyA5JUQLf",
      "include_colab_link": true
    },
    "kernelspec": {
      "name": "python3",
      "display_name": "Python 3"
    }
  },
  "cells": [
    {
      "cell_type": "markdown",
      "metadata": {
        "id": "view-in-github",
        "colab_type": "text"
      },
      "source": [
        "<a href=\"https://colab.research.google.com/github/ManasiMhatre22/Data-Compression/blob/master/expno4LZW.ipynb\" target=\"_parent\"><img src=\"https://colab.research.google.com/assets/colab-badge.svg\" alt=\"Open In Colab\"/></a>"
      ]
    },
    {
      "cell_type": "code",
      "metadata": {
        "id": "0F2fiiED970l",
        "colab_type": "code",
        "colab": {}
      },
      "source": [
        "def compress(uncompressed):\n",
        "    \"\"\"Compress a string to a list of output symbols.\"\"\"\n",
        " \n",
        "    # Build the dictionary.\n",
        "    dict_size = 256\n",
        "    dictionary = dict((chr(i), i) for i in range(dict_size))\n",
        "    # in Python 3: dictionary = {chr(i): i for i in range(dict_size)}\n",
        " \n",
        "    w = \"\"\n",
        "    result = []\n",
        "    for c in uncompressed:\n",
        "        wc = w + c\n",
        "        if wc in dictionary:\n",
        "            w = wc\n",
        "        else:\n",
        "            result.append(dictionary[w])\n",
        "            # Add wc to the dictionary.\n",
        "            dictionary[wc] = dict_size\n",
        "            dict_size += 1\n",
        "            w = c\n",
        " \n",
        "    # Output the code for w.\n",
        "    if w:\n",
        "        result.append(dictionary[w])\n",
        "    return result\n",
        " \n"
      ],
      "execution_count": 25,
      "outputs": []
    },
    {
      "cell_type": "code",
      "metadata": {
        "id": "qpEWQjj5D0Ul",
        "colab_type": "code",
        "colab": {
          "base_uri": "https://localhost:8080/",
          "height": 34
        },
        "outputId": "7773e90c-e50d-4a71-f231-0cf3b2f528be"
      },
      "source": [
        "compressed = compress(\"abcd\")\n",
        "print(compressed)"
      ],
      "execution_count": 11,
      "outputs": [
        {
          "output_type": "stream",
          "text": [
            "[97, 98, 99, 100]\n"
          ],
          "name": "stdout"
        }
      ]
    },
    {
      "cell_type": "code",
      "metadata": {
        "id": "7-68jLTtMYJY",
        "colab_type": "code",
        "colab": {
          "base_uri": "https://localhost:8080/",
          "height": 34
        },
        "outputId": "ea7b4df5-20d2-4cc7-e91e-1cef46e3e720"
      },
      "source": [
        "compressed = compress(\"aabbdcddaabbaa\")\n",
        "print(compressed)\n"
      ],
      "execution_count": 26,
      "outputs": [
        {
          "output_type": "stream",
          "text": [
            "[97, 97, 98, 98, 100, 99, 100, 100, 256, 258, 256]\n"
          ],
          "name": "stdout"
        }
      ]
    },
    {
      "cell_type": "code",
      "metadata": {
        "id": "K4rIo7sLEWX7",
        "colab_type": "code",
        "colab": {
          "base_uri": "https://localhost:8080/",
          "height": 34
        },
        "outputId": "9ccbd157-e70e-430c-d959-5a7432d9704c"
      },
      "source": [
        "compressed = compress(\"MALAYALAM\")\n",
        "\n",
        "print(compressed)\n"
      ],
      "execution_count": 23,
      "outputs": [
        {
          "output_type": "stream",
          "text": [
            "[77, 65, 76, 65, 89, 257, 65, 77]\n"
          ],
          "name": "stdout"
        }
      ]
    },
    {
      "cell_type": "code",
      "metadata": {
        "id": "lkcX8iegFH6Y",
        "colab_type": "code",
        "colab": {}
      },
      "source": [
        "def compress(uncompressed):\n",
        "    \"\"\"Compress a string to a list of output symbols.\"\"\"\n",
        " \n",
        "    # Build the dictionary.\n",
        "    dict_size = 256\n",
        "    dictionary = dict((chr(i), i) for i in range(dict_size))\n",
        "    # in Python 3: dictionary = {chr(i): i for i in range(dict_size)}\n",
        " \n",
        "    w = \"\"\n",
        "    result = []\n",
        "    for c in uncompressed:\n",
        "        wc = w + c\n",
        "        if wc in dictionary:\n",
        "            w = wc\n",
        "        else:\n",
        "            result.append(dictionary[w])\n",
        "            # Add wc to the dictionary.\n",
        "            dictionary[wc] = dict_size\n",
        "            dict_size += 1\n",
        "            w = c\n",
        " \n",
        "    # Output the code for w.\n",
        "    if w:\n",
        "        result.append(dictionary[w])\n",
        "    return result\n",
        " \n"
      ],
      "execution_count": 16,
      "outputs": []
    },
    {
      "cell_type": "code",
      "metadata": {
        "id": "qoYfithbGRLr",
        "colab_type": "code",
        "colab": {}
      },
      "source": [
        "def decompress(compressed):\n",
        "    \"\"\"Decompress a list of output ks to a string.\"\"\"\n",
        "    from io import StringIO\n",
        " \n",
        "    # Build the dictionary.\n",
        "    dict_size = 256\n",
        "    dictionary = dict((i, chr(i)) for i in range(dict_size))\n",
        "    # in Python 3: dictionary = {i: chr(i) for i in range(dict_size)}\n",
        " \n",
        "    # use StringIO, otherwise this becomes O(N^2)\n",
        "    # due to string concatenation in a loop\n",
        "    result = StringIO()\n",
        "    w = chr(compressed.pop(0))\n",
        "    result.write(w)\n",
        "    for k in compressed:\n",
        "        if k in dictionary:\n",
        "            entry = dictionary[k]\n",
        "        elif k == dict_size:\n",
        "            entry = w + w[0]\n",
        "        else:\n",
        "            raise ValueError('Bad compressed k: %s' % k)\n",
        "        result.write(entry)\n",
        " \n",
        "        # Add w+entry[0] to the dictionary.\n",
        "        dictionary[dict_size] = w + entry[0]\n",
        "        dict_size += 1\n",
        " \n",
        "        w = entry\n",
        "    return result.getvalue()\n"
      ],
      "execution_count": 18,
      "outputs": []
    },
    {
      "cell_type": "code",
      "metadata": {
        "id": "jVKZGUO8GUOw",
        "colab_type": "code",
        "colab": {
          "base_uri": "https://localhost:8080/",
          "height": 34
        },
        "outputId": "494434d4-56fb-44df-904b-277ec5d47367"
      },
      "source": [
        "decompressed = decompress(compressed)\n",
        "print(decompressed)"
      ],
      "execution_count": 24,
      "outputs": [
        {
          "output_type": "stream",
          "text": [
            "MALAYALAM\n"
          ],
          "name": "stdout"
        }
      ]
    }
  ]
}